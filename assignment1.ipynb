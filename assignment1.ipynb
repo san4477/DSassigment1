{
 "cells": [
  {
   "cell_type": "code",
   "execution_count": null,
   "id": "bdcc4f41-2a3d-44bf-bef6-10999428bc8e",
   "metadata": {},
   "outputs": [],
   "source": [
    "#ans 1 - mathematical operators- * + -,string - 'hello',integer - 6, expression - /, float -87.8"
   ]
  },
  {
   "cell_type": "code",
   "execution_count": null,
   "id": "b1b40770-267d-452e-bc61-ab1ea297ab49",
   "metadata": {},
   "outputs": [],
   "source": [
    "#Ans2 - Variables are symbols that you can use to store data in a program.String is data, so we can use them to fill up a variable."
   ]
  },
  {
   "cell_type": "code",
   "execution_count": null,
   "id": "106c9bf5-5bff-491d-9996-c06677ab2350",
   "metadata": {},
   "outputs": [],
   "source": [
    "#Ans3 - string - represents charachters,integer - it contains positive or negative whole number,float - represent floating point number"
   ]
  },
  {
   "cell_type": "code",
   "execution_count": null,
   "id": "0db8adfa-1021-4901-a8fa-05d5da6c3a6e",
   "metadata": {},
   "outputs": [],
   "source": [
    "#Ans4 - an expression is combinaton of values,variable,functions"
   ]
  },
  {
   "cell_type": "code",
   "execution_count": null,
   "id": "79dc4a95-ef51-49a5-a4fb-f53ebbde1de3",
   "metadata": {},
   "outputs": [],
   "source": [
    "#Ans5 - an expression is somthing while a statment does something."
   ]
  },
  {
   "cell_type": "code",
   "execution_count": null,
   "id": "790bda73-1f1c-49d8-9913-8ba18e5ac2bb",
   "metadata": {},
   "outputs": [],
   "source": [
    "#Ans6 - 23"
   ]
  },
  {
   "cell_type": "code",
   "execution_count": null,
   "id": "9bcd87cd-1b4d-4db5-9ae5-85d5cee167dd",
   "metadata": {},
   "outputs": [],
   "source": [
    "#Ans7 - 'spamspamspam'"
   ]
  },
  {
   "cell_type": "code",
   "execution_count": null,
   "id": "34fa5f50-3241-4528-ab52-24534e124c90",
   "metadata": {},
   "outputs": [],
   "source": [
    "#Ans8 - because variable name can not begine with a number."
   ]
  },
  {
   "cell_type": "code",
   "execution_count": null,
   "id": "5b271ca9-89b4-49d4-974d-2ff4ae2aa262",
   "metadata": {},
   "outputs": [],
   "source": [
    "#Ans9 -  int() , float() , and str( ) "
   ]
  },
  {
   "cell_type": "code",
   "execution_count": 8,
   "id": "f2f06129-15ab-4409-91e2-11d3750e02ac",
   "metadata": {},
   "outputs": [],
   "source": [
    "#Ans10 - 'i have eaten'+99+'burritos' this statement gives error becuase phyton can only concatenate srt to srt not srt to int"
   ]
  },
  {
   "cell_type": "code",
   "execution_count": null,
   "id": "9a9d7dac-84cf-409d-af61-a105aca8b958",
   "metadata": {},
   "outputs": [],
   "source": []
  }
 ],
 "metadata": {
  "kernelspec": {
   "display_name": "Python 3 (ipykernel)",
   "language": "python",
   "name": "python3"
  },
  "language_info": {
   "codemirror_mode": {
    "name": "ipython",
    "version": 3
   },
   "file_extension": ".py",
   "mimetype": "text/x-python",
   "name": "python",
   "nbconvert_exporter": "python",
   "pygments_lexer": "ipython3",
   "version": "3.10.6"
  }
 },
 "nbformat": 4,
 "nbformat_minor": 5
}
